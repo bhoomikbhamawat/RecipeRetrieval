{
 "cells": [
  {
   "cell_type": "code",
   "execution_count": 2,
   "metadata": {},
   "outputs": [],
   "source": [
    "import os\n",
    "import json\n",
    "import string\n",
    "import pickle \n",
    "import numpy as np\n",
    "import nltk\n",
    "from nltk.corpus import stopwords\n",
    "from nltk.stem import SnowballStemmer\n",
    "from nltk.tokenize import word_tokenize\n",
    "from tqdm.notebook import tqdm,tnrange\n",
    "from collections import Counter\n",
    "#nltk.download(\"punkt\")\n",
    "#nltk.download(\"stopwords\")\n",
    "class InvertedIndex():\n",
    "    def __init__(self):\n",
    "        self.DFpostings={}                #Dictionary contains Posting List for each words \n",
    "        self.termsInFile=[]               #List contains all words in a single file\n",
    "\n",
    "    def stripSpecialChar(self,text):\n",
    "        return ''.join(ch for ch in text if ch.isalnum() and not ch.isdigit() and ch not in string.punctuation)\n",
    "\n",
    "    def preProcess(self,text):\n",
    "        stemmer = SnowballStemmer(\"english\")\n",
    "        stopWords = set(stopwords.words('english'))\n",
    "\n",
    "        text = text.lower()                                     # convert all text to lower case\n",
    "        text_tokens = word_tokenize(text)                       # tokenizing the text\n",
    "\n",
    "        stemmedWords = list([stemmer.stem(word) for word in text_tokens])   # Stemming \n",
    "        validTokens = [i for i in stemmedWords if i not in stopWords]       # Removing Stop Words\n",
    "\n",
    "        validTokens = [self.stripSpecialChar(x) for x in validTokens]   # stripping special characters\n",
    "        validTokens = [x for x in validTokens if len(x) > 1]    # Choosing only words which has length > 1\n",
    "        return validTokens, set(validTokens)\n",
    "\n",
    "    def indexFile(self,file,fileId):\n",
    "        '''\n",
    "        Creates Index for each File\n",
    "        '''\n",
    "        tokens, setTokens = self.preProcess(file)\n",
    "        self.termsInFile.append(tokens)\n",
    "        for i in setTokens:\n",
    "            if i in self.DFpostings:\n",
    "                self.DFpostings[i].append(fileId)\n",
    "            else:\n",
    "                self.DFpostings[i] = [fileId]\n",
    "                \n",
    "    def save(self,file):\n",
    "        '''\n",
    "        Save the index to a file locally\n",
    "        '''\n",
    "        json.dump(self.DFpostings, open(\"DFPostings\"+file, \"w\"))\n",
    "        json.dump(self.termsInFile, open(\"TermsInfile\"+file, \"w\"))"
   ]
  },
  {
   "cell_type": "markdown",
   "metadata": {},
   "source": [
    "# Opening the Project Object"
   ]
  },
  {
   "cell_type": "code",
   "execution_count": 3,
   "metadata": {},
   "outputs": [],
   "source": [
    "with open('ProjectFile.obj','rb') as file_object:\n",
    "    file_data = file_object.read()\n",
    "file_obj = pickle.loads(file_data)\n",
    "\n",
    "import pickle\n",
    "with open('ProjectTitle.obj','rb') as file_object:\n",
    "    title_data = file_object.read()\n",
    "title_obj = pickle.loads(title_data)"
   ]
  },
  {
   "cell_type": "markdown",
   "metadata": {},
   "source": [
    "# Adding the new file in the Index "
   ]
  },
  {
   "cell_type": "code",
   "execution_count": null,
   "metadata": {},
   "outputs": [],
   "source": [
    "f = open('Final_mapping.json',\"r\")\n",
    "data = json.load(f)\n",
    "data.append(\"Newfile.txt\")\n",
    "json.dump(data, open(\"Final_mapping.json\", \"w\"))\n",
    "\n",
    "file = open(\"recipes_folder/Newfile.txt\", encoding=\"utf8\")\n",
    "readTitle = file.readline().replace('\\n', ' ')\n",
    "readFile = file.read().replace('\\n', ' ')\n",
    "\n",
    "file.close()\n",
    "file_obj.indexFile(readFile, i)\n",
    "title_obj.indexFile(readTitle, i)"
   ]
  },
  {
   "cell_type": "markdown",
   "metadata": {},
   "source": [
    "# Saving the New Index"
   ]
  },
  {
   "cell_type": "code",
   "execution_count": null,
   "metadata": {},
   "outputs": [],
   "source": [
    "# Saving the File\n",
    "serializedFile = pickle.dumps(indexFile)\n",
    "filename = 'ProjectFile.obj'\n",
    "with open(filename,'wb') as file_object:\n",
    "    file_object.write(serializedFile)\n",
    "    \n",
    "# Saving the Title \n",
    "serializedTitle = pickle.dumps(indexTitle)\n",
    "filename = 'ProjectTitle.obj'\n",
    "with open(filename,'wb') as file_object:\n",
    "    file_object.write(serializedTitle)"
   ]
  }
 ],
 "metadata": {
  "kernelspec": {
   "display_name": "Python 3",
   "language": "python",
   "name": "python3"
  },
  "language_info": {
   "codemirror_mode": {
    "name": "ipython",
    "version": 3
   },
   "file_extension": ".py",
   "mimetype": "text/x-python",
   "name": "python",
   "nbconvert_exporter": "python",
   "pygments_lexer": "ipython3",
   "version": "3.8.3"
  }
 },
 "nbformat": 4,
 "nbformat_minor": 4
}
