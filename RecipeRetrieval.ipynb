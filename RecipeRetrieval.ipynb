{
 "cells": [
  {
   "cell_type": "code",
   "execution_count": 1,
   "metadata": {},
   "outputs": [],
   "source": [
    "import os\n",
    "import json\n",
    "import string\n",
    "import pickle \n",
    "import numpy as np\n",
    "import nltk\n",
    "from nltk.corpus import stopwords\n",
    "from nltk.stem import SnowballStemmer\n",
    "from nltk.tokenize import word_tokenize\n",
    "from tqdm.notebook import tqdm,tnrange\n",
    "from collections import Counter\n",
    "#nltk.download(\"punkt\")\n",
    "#nltk.download(\"stopwords\")\n",
    "class InvertedIndex():\n",
    "    def __init__(self):\n",
    "        self.DFpostings={}                #Dictionary contains Posting List for each words \n",
    "        self.termsInFile=[]               #List contains all words in a single file\n",
    "\n",
    "    def stripSpecialChar(self,text):\n",
    "        return ''.join(ch for ch in text if ch.isalnum() and not ch.isdigit() and ch not in string.punctuation)\n",
    "\n",
    "    def preProcess(self,text):\n",
    "        stemmer = SnowballStemmer(\"english\")\n",
    "        stopWords = set(stopwords.words('english'))\n",
    "\n",
    "        text = text.lower()                                     # convert all text to lower case\n",
    "        text_tokens = word_tokenize(text)                       # tokenizing the text\n",
    "\n",
    "        stemmedWords = list([stemmer.stem(word) for word in text_tokens])   # Stemming \n",
    "        validTokens = [i for i in stemmedWords if i not in stopWords]       # Removing Stop Words\n",
    "\n",
    "        validTokens = [self.stripSpecialChar(x) for x in validTokens]   # stripping special characters\n",
    "        validTokens = [x for x in validTokens if len(x) > 1]    # Choosing only words which has length > 1\n",
    "        return validTokens, set(validTokens)\n",
    "\n",
    "    def indexFile(self,file,fileId):\n",
    "        '''\n",
    "        Creates Index for each File\n",
    "        '''\n",
    "        tokens, setTokens = self.preProcess(file)\n",
    "        self.termsInFile.append(tokens)\n",
    "        for i in setTokens:\n",
    "            if i in self.DFpostings:\n",
    "                self.DFpostings[i].append(fileId)\n",
    "            else:\n",
    "                self.DFpostings[i] = [fileId]\n",
    "                \n",
    "    def save(self,file):\n",
    "        '''\n",
    "        Save the index to a file locally\n",
    "        '''\n",
    "        json.dump(self.DFpostings, open(\"DFPostings\"+file, \"w\"))\n",
    "        json.dump(self.termsInFile, open(\"TermsInfile\"+file, \"w\"))"
   ]
  },
  {
   "cell_type": "code",
   "execution_count": 2,
   "metadata": {},
   "outputs": [],
   "source": [
    "class tf_idfmatrices():\n",
    "    def __init__(self,DFpostings, tokens, docs_count):\n",
    "        self.DFpostings = DFpostings\n",
    "        self.tokens = tokens\n",
    "        self.docs_count = docs_count\n",
    "        self.vocab_count = len(DFpostings)\n",
    "        self.vocabulary = [x for x in DFpostings]\n",
    "        self.idf = dict()\n",
    "        self.counter_lists = []\n",
    "        self.tf_idf_TermFreq = np.zeros((docs_count, self.vocab_count))\n",
    "\n",
    "    \n",
    "    def generateIDF(self):\n",
    "         for key in self.DFpostings:\n",
    "                doc_freq = len(self.DFpostings[key]) \n",
    "                self.idf[key] = np.log10((self.docs_count/doc_freq) +1)\n",
    "        \n",
    "    def generateCounterLists(self):\n",
    "        for i in tnrange(self.docs_count):\n",
    "            self.counter_lists.append(Counter(self.tokens[i])) \n",
    "    \n",
    "    def generateTermFreq(self):\n",
    "        for i in tnrange(len(self.vocabulary)):\n",
    "            for j in range(self.docs_count):\n",
    "                self.tf_idf_TermFreq[j][i] = (self.counter_lists[j][self.vocabulary[i]]/len(self.tokens[j]))*self.idf[self.vocabulary[i]]\n"
   ]
  },
  {
   "cell_type": "code",
   "execution_count": 4,
   "metadata": {},
   "outputs": [
    {
     "data": {
      "application/vnd.jupyter.widget-view+json": {
       "model_id": "f80a95d45a5b4eca9aac77f26ad84bd8",
       "version_major": 2,
       "version_minor": 0
      },
      "text/plain": [
       "HBox(children=(FloatProgress(value=0.0, max=19241.0), HTML(value='')))"
      ]
     },
     "metadata": {},
     "output_type": "display_data"
    },
    {
     "name": "stdout",
     "output_type": "stream",
     "text": [
      "\n"
     ]
    },
    {
     "data": {
      "application/vnd.jupyter.widget-view+json": {
       "model_id": "25b1b12429b6495a996d26fce1484243",
       "version_major": 2,
       "version_minor": 0
      },
      "text/plain": [
       "HBox(children=(FloatProgress(value=0.0, max=3423.0), HTML(value='')))"
      ]
     },
     "metadata": {},
     "output_type": "display_data"
    },
    {
     "name": "stdout",
     "output_type": "stream",
     "text": [
      "\n"
     ]
    },
    {
     "data": {
      "application/vnd.jupyter.widget-view+json": {
       "model_id": "84a8caf73f5848679d301279bbb01739",
       "version_major": 2,
       "version_minor": 0
      },
      "text/plain": [
       "HBox(children=(FloatProgress(value=0.0, max=19241.0), HTML(value='')))"
      ]
     },
     "metadata": {},
     "output_type": "display_data"
    },
    {
     "name": "stdout",
     "output_type": "stream",
     "text": [
      "\n"
     ]
    },
    {
     "data": {
      "application/vnd.jupyter.widget-view+json": {
       "model_id": "53a4a905ea8241e69af0b41f2c8ff774",
       "version_major": 2,
       "version_minor": 0
      },
      "text/plain": [
       "HBox(children=(FloatProgress(value=0.0, max=5686.0), HTML(value='')))"
      ]
     },
     "metadata": {},
     "output_type": "display_data"
    },
    {
     "name": "stdout",
     "output_type": "stream",
     "text": [
      "\n"
     ]
    }
   ],
   "source": [
    "def generateScore(DFpostings, termsInFile):\n",
    "    work_objthis = tf_idfmatrices(DFpostings,termsInFile,19241) \n",
    "    work_objthis.generateIDF()\n",
    "    work_objthis.generateCounterLists()\n",
    "    work_objthis.generateTermFreq()\n",
    "    return work_objthis\n",
    "\n",
    "\n",
    "with open('ProjectFile.obj','rb') as file_object:\n",
    "    raw_data = file_object.read()\n",
    "file_obj = pickle.loads(raw_data)\n",
    "\n",
    "with open('ProjectTitle.obj','rb') as file_object:\n",
    "    raw_data = file_object.read()\n",
    "title_obj = pickle.loads(raw_data)\n",
    "\n",
    "#fileScore = generateScore(file_obj.DFpostings, file_obj.termsInFile)\n",
    "#titleScore = generateScore(title_obj.DFpostings, title_obj.termsInFile)\n"
   ]
  },
  {
   "cell_type": "code",
   "execution_count": 73,
   "metadata": {},
   "outputs": [],
   "source": [
    "#serialized = pickle.dumps(fileScore)\n",
    "#filename = 'TF_IDF_Calculated_File.obj'\n",
    "#with open(filename,'wb') as file_object:\n",
    "#    file_object.write(serialized)\n",
    "    \n",
    "#serialized = pickle.dumps(titleScore)\n",
    "#filename = 'TF_IDF_Calculated_Title.obj'\n",
    "#with open(filename,'wb') as file_object:\n",
    "#    file_object.write(serialized)\n",
    "  \n",
    "with open('TF_IDF_Calculated_File.obj','rb') as file_object:\n",
    "    raw_data = file_object.read()\n",
    "file_tf_idf_obj = pickle.loads(raw_data)\n",
    "\n",
    "with open('TF_IDF_Calculated_Title.obj','rb') as file_object:\n",
    "    raw_data = file_object.read()\n",
    "title_tf_idf_obj = pickle.loads(raw_data)"
   ]
  },
  {
   "cell_type": "code",
   "execution_count": 74,
   "metadata": {},
   "outputs": [],
   "source": [
    "def stripSpecialChar(text):\n",
    "        return ''.join(ch for ch in text if ch.isalnum() and not ch.isdigit() and ch not in string.punctuation)\n",
    "\n",
    "def preProcess(text):\n",
    "        stemmer = SnowballStemmer(\"english\")\n",
    "        stopWords = set(stopwords.words('english'))\n",
    "\n",
    "        text = text.lower()                                     # convert all text to lower case\n",
    "        text_tokens = word_tokenize(text)                       # tokenizing the text\n",
    "\n",
    "        stemmedWords = list([stemmer.stem(word) for word in text_tokens])\n",
    "        validTokens = [i for i in stemmedWords if i not in stopWords]\n",
    "\n",
    "        validTokens = [stripSpecialChar(x) for x in validTokens]   # stripping special characters\n",
    "        validTokens = [x for x in validTokens if len(x) > 1]    # Choosing only words which has length > 1\n",
    "        return set(validTokens)"
   ]
  },
  {
   "cell_type": "code",
   "execution_count": 75,
   "metadata": {},
   "outputs": [],
   "source": [
    "def getscore(objtype, listofwords):\n",
    "    indextolookfor = []\n",
    "    for word in listofwords:\n",
    "        index = objtype.vocabulary.index(word)  #instead of forming a query vector, we just extracted the indices of the querytokens\n",
    "        indextolookfor.append(index)\n",
    "    for docs in range(objtype.docs_count):\n",
    "        for query in indextolookfor:\n",
    "            query_eval[docs][0]+= (objtype.tf_idf_TermFreq[docs][query])\n",
    "        \n",
    "def Top5(alist):\n",
    "    return sorted(range(len(alist)), key=lambda i: alist[i], reverse=True)[:5]\n",
    "\n",
    "def results():\n",
    "    print()\n",
    "    return Top5(query_eval[:,0])"
   ]
  },
  {
   "cell_type": "code",
   "execution_count": 76,
   "metadata": {},
   "outputs": [
    {
     "name": "stdout",
     "output_type": "stream",
     "text": [
      "Enter Input:-vanilla mango\n",
      "\n",
      "20011\n",
      "Mango Cream\n",
      "\n",
      "10072\n",
      "Vanilla Kifli\n",
      "\n",
      "13763\n",
      "Vanilla Pudding\n",
      "\n",
      "21751\n",
      "Vanilla Sauce\n",
      "\n",
      "8071\n",
      "Mango Cake\n",
      "\n"
     ]
    }
   ],
   "source": [
    "sentence_query = input(\"Enter Input:-\")\n",
    "listofwords = preProcess(sentence_query)\n",
    "\n",
    "query_eval = np.zeros((title_tf_idf_obj.docs_count,1))\n",
    "getscore(title_tf_idf_obj, listofwords)\n",
    "getscore(file_tf_idf_obj, listofwords)\n",
    "\n",
    "ans = results()\n",
    "f = open('Final_mapping.json',)\n",
    "d = json.load(f)\n",
    "\n",
    "for i in ans:\n",
    "    file1 = open(d[i],\"r\")\n",
    "    print(d[i][15:-4])\n",
    "    print(file1.readline())\n"
   ]
  },
  {
   "cell_type": "code",
   "execution_count": null,
   "metadata": {},
   "outputs": [],
   "source": []
  }
 ],
 "metadata": {
  "kernelspec": {
   "display_name": "Python 3",
   "language": "python",
   "name": "python3"
  },
  "language_info": {
   "codemirror_mode": {
    "name": "ipython",
    "version": 3
   },
   "file_extension": ".py",
   "mimetype": "text/x-python",
   "name": "python",
   "nbconvert_exporter": "python",
   "pygments_lexer": "ipython3",
   "version": "3.8.3"
  }
 },
 "nbformat": 4,
 "nbformat_minor": 4
}
