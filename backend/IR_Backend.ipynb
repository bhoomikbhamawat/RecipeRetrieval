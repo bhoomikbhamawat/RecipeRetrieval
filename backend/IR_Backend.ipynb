{
  "nbformat": 4,
  "nbformat_minor": 0,
  "metadata": {
    "colab": {
      "name": "IR Backend.ipynb",
      "provenance": [],
      "mount_file_id": "1dX3JUXnofPqCRvR4K5rF7x74hjXeP8m7",
      "authorship_tag": "ABX9TyMLlRhENWbL+YpL8b8CLlYM",
      "include_colab_link": true
    },
    "kernelspec": {
      "name": "python3",
      "display_name": "Python 3"
    },
    "language_info": {
      "name": "python"
    }
  },
  "cells": [
    {
      "cell_type": "markdown",
      "metadata": {
        "id": "view-in-github",
        "colab_type": "text"
      },
      "source": [
        "<a href=\"https://colab.research.google.com/github/khansajeel/InformationRetrieval_2021_T34_Project/blob/main/backend/IR_Backend.ipynb\" target=\"_parent\"><img src=\"https://colab.research.google.com/assets/colab-badge.svg\" alt=\"Open In Colab\"/></a>"
      ]
    },
    {
      "cell_type": "code",
      "metadata": {
        "colab": {
          "base_uri": "https://localhost:8080/"
        },
        "id": "hadF0ARi0drn",
        "outputId": "8d3f0a84-6f7f-4178-dc4e-7ed56f25e171"
      },
      "source": [
        "!pip install flask-ngrok\n",
        "!pip install flask_cors"
      ],
      "execution_count": 3,
      "outputs": [
        {
          "output_type": "stream",
          "text": [
            "Requirement already satisfied: flask-ngrok in /usr/local/lib/python3.7/dist-packages (0.0.25)\n",
            "Requirement already satisfied: Flask>=0.8 in /usr/local/lib/python3.7/dist-packages (from flask-ngrok) (1.1.2)\n",
            "Requirement already satisfied: requests in /usr/local/lib/python3.7/dist-packages (from flask-ngrok) (2.23.0)\n",
            "Requirement already satisfied: click>=5.1 in /usr/local/lib/python3.7/dist-packages (from Flask>=0.8->flask-ngrok) (7.1.2)\n",
            "Requirement already satisfied: itsdangerous>=0.24 in /usr/local/lib/python3.7/dist-packages (from Flask>=0.8->flask-ngrok) (1.1.0)\n",
            "Requirement already satisfied: Jinja2>=2.10.1 in /usr/local/lib/python3.7/dist-packages (from Flask>=0.8->flask-ngrok) (2.11.3)\n",
            "Requirement already satisfied: Werkzeug>=0.15 in /usr/local/lib/python3.7/dist-packages (from Flask>=0.8->flask-ngrok) (1.0.1)\n",
            "Requirement already satisfied: urllib3!=1.25.0,!=1.25.1,<1.26,>=1.21.1 in /usr/local/lib/python3.7/dist-packages (from requests->flask-ngrok) (1.24.3)\n",
            "Requirement already satisfied: chardet<4,>=3.0.2 in /usr/local/lib/python3.7/dist-packages (from requests->flask-ngrok) (3.0.4)\n",
            "Requirement already satisfied: idna<3,>=2.5 in /usr/local/lib/python3.7/dist-packages (from requests->flask-ngrok) (2.10)\n",
            "Requirement already satisfied: certifi>=2017.4.17 in /usr/local/lib/python3.7/dist-packages (from requests->flask-ngrok) (2020.12.5)\n",
            "Requirement already satisfied: MarkupSafe>=0.23 in /usr/local/lib/python3.7/dist-packages (from Jinja2>=2.10.1->Flask>=0.8->flask-ngrok) (1.1.1)\n",
            "Requirement already satisfied: flask_cors in /usr/local/lib/python3.7/dist-packages (3.0.10)\n",
            "Requirement already satisfied: Flask>=0.9 in /usr/local/lib/python3.7/dist-packages (from flask_cors) (1.1.2)\n",
            "Requirement already satisfied: Six in /usr/local/lib/python3.7/dist-packages (from flask_cors) (1.15.0)\n",
            "Requirement already satisfied: click>=5.1 in /usr/local/lib/python3.7/dist-packages (from Flask>=0.9->flask_cors) (7.1.2)\n",
            "Requirement already satisfied: Jinja2>=2.10.1 in /usr/local/lib/python3.7/dist-packages (from Flask>=0.9->flask_cors) (2.11.3)\n",
            "Requirement already satisfied: Werkzeug>=0.15 in /usr/local/lib/python3.7/dist-packages (from Flask>=0.9->flask_cors) (1.0.1)\n",
            "Requirement already satisfied: itsdangerous>=0.24 in /usr/local/lib/python3.7/dist-packages (from Flask>=0.9->flask_cors) (1.1.0)\n",
            "Requirement already satisfied: MarkupSafe>=0.23 in /usr/local/lib/python3.7/dist-packages (from Jinja2>=2.10.1->Flask>=0.9->flask_cors) (1.1.1)\n"
          ],
          "name": "stdout"
        }
      ]
    },
    {
      "cell_type": "code",
      "metadata": {
        "colab": {
          "base_uri": "https://localhost:8080/"
        },
        "id": "-RaqyOjZ0PR2",
        "outputId": "699175df-648a-48ab-fe0e-f1d416791331"
      },
      "source": [
        "import pickle\n",
        "import urllib\n",
        "from torchvision import transforms\n",
        "import torch\n",
        "from PIL import Image\n",
        "from flask import request\n",
        "from flask import Flask\n",
        "from flask_cors import CORS\n",
        "from nltk.tokenize import word_tokenize\n",
        "import nltk\n",
        "from nltk.corpus import stopwords\n",
        "from nltk.stem import SnowballStemmer\n",
        "import json\n",
        "import string\n",
        "import numpy as np\n",
        "from collections import Counter\n",
        "from tqdm.notebook import tnrange\n",
        "from flask_ngrok import run_with_ngrok\n",
        "nltk.download(\"punkt\")\n",
        "nltk.download(\"stopwords\")"
      ],
      "execution_count": 4,
      "outputs": [
        {
          "output_type": "stream",
          "text": [
            "[nltk_data] Downloading package punkt to /root/nltk_data...\n",
            "[nltk_data]   Package punkt is already up-to-date!\n",
            "[nltk_data] Downloading package stopwords to /root/nltk_data...\n",
            "[nltk_data]   Package stopwords is already up-to-date!\n"
          ],
          "name": "stdout"
        },
        {
          "output_type": "execute_result",
          "data": {
            "text/plain": [
              "True"
            ]
          },
          "metadata": {
            "tags": []
          },
          "execution_count": 4
        }
      ]
    },
    {
      "cell_type": "code",
      "metadata": {
        "id": "q4yBxmEB0qnO"
      },
      "source": [
        "class tf_idfmatrices():\n",
        "    def __init__(self, DFpostings, tokens, docs_count):\n",
        "        self.DFpostings = DFpostings\n",
        "        self.tokens = tokens\n",
        "        self.docs_count = docs_count\n",
        "        self.vocab_count = len(DFpostings)\n",
        "        self.vocabulary = [x for x in DFpostings]\n",
        "        self.idf = dict()\n",
        "        self.counter_lists = []\n",
        "        self.tf_idf_TermFreq = np.zeros((docs_count, self.vocab_count))\n",
        "\n",
        "    def generateIDF(self):\n",
        "        for key in self.DFpostings:\n",
        "            doc_freq = len(self.DFpostings[key])\n",
        "            self.idf[key] = np.log10((self.docs_count/doc_freq) + 1)\n",
        "\n",
        "    def generateCounterLists(self):\n",
        "        for i in tnrange(self.docs_count):\n",
        "            self.counter_lists.append(Counter(self.tokens[i]))\n",
        "\n",
        "    def generateTermFreq(self):\n",
        "        for i in tnrange(len(self.vocabulary)):\n",
        "            for j in range(self.docs_count):\n",
        "                self.tf_idf_TermFreq[j][i] = (\n",
        "                    self.counter_lists[j][self.vocabulary[i]]/len(self.tokens[j]))*self.idf[self.vocabulary[i]]\n",
        "\n",
        "\n",
        "class Results():\n",
        "    def __init__(self, file_obj, title_obj,\n",
        "                 file_tf_idf_obj, title_tf_idf_obj):\n",
        "        self.file_obj = file_obj\n",
        "        self.title_obj = title_obj\n",
        "        self.file_tf_idf_obj = file_tf_idf_obj\n",
        "        self.title_tf_idf_obj = title_tf_idf_obj\n",
        "\n",
        "    def stripSpecialChar(self, text):\n",
        "        return ''.join(ch for ch in text if ch.isalnum() and not ch.isdigit() and ch not in string.punctuation)\n",
        "\n",
        "    def preProcess(self, text):\n",
        "        stemmer = SnowballStemmer(\"english\")\n",
        "        stopWords = set(stopwords.words('english'))\n",
        "\n",
        "        # convert all text to lower case\n",
        "        text = text.lower()\n",
        "        # tokenizing the text\n",
        "        text_tokens = word_tokenize(text)\n",
        "\n",
        "        stemmedWords = list([stemmer.stem(word) for word in text_tokens])\n",
        "        validTokens = [i for i in stemmedWords if i not in stopWords]\n",
        "\n",
        "        # stripping special characters\n",
        "        validTokens = [self.stripSpecialChar(x) for x in validTokens]\n",
        "        # Choosing only words which has length > 1\n",
        "        validTokens = [x for x in validTokens if len(x) > 1]\n",
        "        return set(validTokens)\n",
        "\n",
        "    def getscore(self, objtype, listofwords, query_eval):\n",
        "        indextolookfor = []\n",
        "        for word in listofwords:\n",
        "            # instead of forming a query vector, we just extracted the indices of the querytokens\n",
        "            index = objtype.vocabulary.index(word)\n",
        "            indextolookfor.append(index)\n",
        "        for docs in range(objtype.docs_count):\n",
        "            for query in indextolookfor:\n",
        "                query_eval[docs][0] += (objtype.tf_idf_TermFreq[docs][query])\n",
        "\n",
        "    def Top5(self, alist):\n",
        "        return sorted(range(len(alist)), key=lambda i: alist[i], reverse=True)[:5]\n",
        "\n",
        "    def getResults(self, sentence_query):\n",
        "        listofwords = self.preProcess(sentence_query)\n",
        "        query_eval = np.zeros((self.title_tf_idf_obj.docs_count, 1))\n",
        "        self.getscore(self.title_tf_idf_obj, listofwords, query_eval)\n",
        "        self.getscore(self.file_tf_idf_obj, listofwords, query_eval)\n",
        "\n",
        "        ans = self.Top5(query_eval[:, 0])\n",
        "        mapping = json.load(open('/content/drive/MyDrive/IR_Project/Final_mapping.json',))\n",
        "        recipes = json.load(open('/content/drive/MyDrive/IR_Project/recipes.json',))\n",
        "        data = []\n",
        "\n",
        "        for i in ans:\n",
        "            fileid = mapping[i][15:-4]\n",
        "            recipe=recipes[fileid][\"title\"]\n",
        "            data.append({\"key\": fileid, \"title\": recipe})\n",
        "        return data\n",
        "\n",
        "\n",
        "class InvertedIndex():\n",
        "    def __init__(self):\n",
        "        self.DFpostings = {}  # Dictionary contains Posting List for each words\n",
        "        self.termsInFile = []  # List contains all words in a single file\n",
        "\n",
        "    def stripSpecialChar(self, text):\n",
        "        return ''.join(ch for ch in text if ch.isalnum() and not ch.isdigit() and ch not in string.punctuation)\n",
        "\n",
        "    def preProcess(self, text):\n",
        "        stemmer = SnowballStemmer(\"english\")\n",
        "        stopWords = set(stopwords.words('english'))\n",
        "\n",
        "        # convert all text to lower case\n",
        "        text = text.lower()\n",
        "        # tokenizing the text\n",
        "        text_tokens = word_tokenize(text)\n",
        "\n",
        "        stemmedWords = list([stemmer.stem(word)\n",
        "                            for word in text_tokens])   # Stemming\n",
        "        # Removing Stop Words\n",
        "        validTokens = [i for i in stemmedWords if i not in stopWords]\n",
        "\n",
        "        # stripping special characters\n",
        "        validTokens = [self.stripSpecialChar(x) for x in validTokens]\n",
        "        # Choosing only words which has length > 1\n",
        "        validTokens = [x for x in validTokens if len(x) > 1]\n",
        "        return validTokens, set(validTokens)\n",
        "\n",
        "    def indexFile(self, file, fileId):\n",
        "        '''\n",
        "        Creates Index for each File\n",
        "        '''\n",
        "        tokens, setTokens = self.preProcess(file)\n",
        "        self.termsInFile.append(tokens)\n",
        "        for i in setTokens:\n",
        "            if i in self.DFpostings:\n",
        "                self.DFpostings[i].append(fileId)\n",
        "            else:\n",
        "                self.DFpostings[i] = [fileId]\n",
        "\n",
        "    def save(self, file):\n",
        "        '''\n",
        "        Save the index to a file locally\n",
        "        '''\n",
        "        json.dump(self.DFpostings, open(\"DFPostings\"+file, \"w\"))\n",
        "        json.dump(self.termsInFile, open(\"TermsInfile\"+file, \"w\"))\n"
      ],
      "execution_count": 12,
      "outputs": []
    },
    {
      "cell_type": "code",
      "metadata": {
        "colab": {
          "base_uri": "https://localhost:8080/"
        },
        "id": "Bhv8UssU0ZH0",
        "outputId": "c5354ffc-9a2c-4b96-c5b6-2ee1e2e7f500"
      },
      "source": [
        "app = Flask(__name__)\n",
        "run_with_ngrok(app)\n",
        "CORS(app)\n",
        "app.secret_key = '5ZN5zi!45QUsGG'\n",
        "\n",
        "@app.route('/', methods=['GET'])\n",
        "def home():\n",
        "    return \"Information retrieval\"\n",
        "\n",
        "\n",
        "@app.route('/', methods=['POST'])\n",
        "def index():\n",
        "    input_image = Image.open(urllib.request.urlopen(request.json['url']))\n",
        "    preprocess = transforms.Compose([\n",
        "        transforms.Resize(256),\n",
        "        transforms.CenterCrop(224),\n",
        "        transforms.ToTensor(),\n",
        "        transforms.Normalize(mean=[0.485, 0.456, 0.406],\n",
        "                             std=[0.229, 0.224, 0.225]),\n",
        "    ])\n",
        "    input_tensor = preprocess(input_image)\n",
        "    input_batch = input_tensor.unsqueeze(0)\n",
        "\n",
        "    model = torch.load('/content/drive/MyDrive/IR_Project/best_classifier.pt', map_location='cpu')\n",
        "    if torch.cuda.is_available():\n",
        "        input_batch = input_batch.to('cuda')\n",
        "        model.to('cuda')\n",
        "    with torch.no_grad():\n",
        "        output = model(input_batch)\n",
        "    with open(\"/content/drive/MyDrive/IR_Project/food_labels.txt\", \"r\") as f:\n",
        "        categories = [s.strip() for s in f.readlines()]\n",
        "\n",
        "    probabilities = torch.nn.functional.softmax(output[0], dim=0)\n",
        "    top1_prob, top1_catid = torch.topk(probabilities, 1)\n",
        "\n",
        "    return {\"response\": categories[top1_catid[0]]}\n",
        "\n",
        "\n",
        "@app.route('/results', methods=['POST'])\n",
        "def comparator():\n",
        "    sentence_query = request.json['query']\n",
        "   \n",
        "\n",
        "    result = Results(file_obj, title_obj,\n",
        "                     file_tf_idf_obj, title_tf_idf_obj)\n",
        "    return {\"data\": result.getResults(sentence_query)}\n",
        "\n",
        "if __name__ == '__main__':\n",
        "\tprint(\"Loading Models ......\")\n",
        "\twith open('/content/drive/MyDrive/IR_Project/ProjectFile.obj', 'rb') as file_object:\n",
        "\t\tfile_obj = pickle.load(file_object)\n",
        "\n",
        "\tprint(\"Done(1/4)\")\n",
        "\twith open('/content/drive/MyDrive/IR_Project/ProjectTitle.obj', 'rb') as file_object:\n",
        "\t\ttitle_obj = pickle.load(file_object)\n",
        "\tprint(\"Done(2/4)\")\n",
        "\twith open('/content/drive/MyDrive/IR_Project/TF_IDF_Calculated_File.obj', 'rb') as file_object:\n",
        "\t\tfile_tf_idf_obj = pickle.load(file_object)\n",
        "\tprint(\"Done(3/4)\")\n",
        "\twith open('/content/drive/MyDrive/IR_Project/TF_IDF_Calculated_Title.obj', 'rb') as file_object:\n",
        "\t\ttitle_tf_idf_obj = pickle.load(file_object)\n",
        "\tprint(\"Done(4/4)\")\n",
        "\tprint(\" Models Loaded\")\n",
        "\tapp.run()\n"
      ],
      "execution_count": 13,
      "outputs": [
        {
          "output_type": "stream",
          "text": [
            "Loading Models ......\n",
            "Done(1/4)\n",
            "Done(2/4)\n",
            "Done(3/4)\n",
            "Done(4/4)\n",
            " Models Loaded\n",
            " * Serving Flask app \"__main__\" (lazy loading)\n",
            " * Environment: production\n",
            "\u001b[31m   WARNING: This is a development server. Do not use it in a production deployment.\u001b[0m\n",
            "\u001b[2m   Use a production WSGI server instead.\u001b[0m\n",
            " * Debug mode: off\n"
          ],
          "name": "stdout"
        },
        {
          "output_type": "stream",
          "text": [
            " * Running on http://127.0.0.1:5000/ (Press CTRL+C to quit)\n"
          ],
          "name": "stderr"
        },
        {
          "output_type": "stream",
          "text": [
            " * Running on http://d535419ff3e2.ngrok.io\n",
            " * Traffic stats available on http://127.0.0.1:4040\n"
          ],
          "name": "stdout"
        },
        {
          "output_type": "stream",
          "text": [
            "127.0.0.1 - - [09/May/2021 07:08:20] \"\u001b[37mOPTIONS /results HTTP/1.1\u001b[0m\" 200 -\n",
            "127.0.0.1 - - [09/May/2021 07:08:24] \"\u001b[37mPOST /results HTTP/1.1\u001b[0m\" 200 -\n"
          ],
          "name": "stderr"
        },
        {
          "output_type": "stream",
          "text": [
            "258678\n",
            "240641\n",
            "12565\n",
            "13685\n",
            "10963\n"
          ],
          "name": "stdout"
        }
      ]
    },
    {
      "cell_type": "code",
      "metadata": {
        "id": "2SRZmEym05Ir"
      },
      "source": [
        ""
      ],
      "execution_count": null,
      "outputs": []
    }
  ]
}